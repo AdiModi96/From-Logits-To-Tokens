{
 "cells": [
  {
   "cell_type": "code",
   "execution_count": 1,
   "id": "6c8c2643-9799-4b7f-bf1f-0b7d5975103d",
   "metadata": {},
   "outputs": [],
   "source": [
    "from ipywidgets import *\n",
    "from IPython.display import display"
   ]
  },
  {
   "cell_type": "code",
   "execution_count": 2,
   "id": "6214142d-9086-44e3-8992-07ef29489551",
   "metadata": {},
   "outputs": [],
   "source": [
    "# Create content for each tab\n",
    "tab1 = widgets.Output()\n",
    "tab2 = widgets.Output()\n",
    "tab3 = widgets.Output()\n",
    "\n",
    "with tab1:\n",
    "    print(\"Welcome to Tab 1! 🌟\")\n",
    "    display(widgets.Button(description=\"Click Me\"))\n",
    "\n",
    "with tab2:\n",
    "    print(\"This is Tab 2. 🚀\")\n",
    "    display(widgets.FloatSlider(value=7.5, min=0, max=10))\n",
    "\n",
    "with tab3:\n",
    "    print(\"You're in Tab 3 now. 📊\")\n",
    "    display(widgets.IntText(value=42))\n",
    "\n",
    "# Create the Tab widget\n",
    "tab = widgets.Tab(children=[tab1, tab2, tab3])\n",
    "tab.set_title(0, 'Tab One')\n",
    "tab.set_title(1, 'Tab Two')\n",
    "tab.set_title(2, 'Tab Three')"
   ]
  },
  {
   "cell_type": "code",
   "execution_count": 3,
   "id": "8db5d295-7870-4c02-9056-fbae338c5942",
   "metadata": {},
   "outputs": [
    {
     "data": {
      "application/vnd.jupyter.widget-view+json": {
       "model_id": "a251491f68e94b409c87a85eff8204c7",
       "version_major": 2,
       "version_minor": 0
      },
      "text/plain": [
       "HBox(children=(Label(value='Aditya'), Tab(children=(Output(), Output(), Output()), selected_index=0, titles=('…"
      ]
     },
     "metadata": {},
     "output_type": "display_data"
    }
   ],
   "source": [
    "display(HBox([Label('Aditya'), tab, Label('Modi')]))"
   ]
  },
  {
   "cell_type": "code",
   "execution_count": null,
   "id": "bbd2bc70-fdd2-4987-a464-d72f59aad5d6",
   "metadata": {},
   "outputs": [],
   "source": []
  },
  {
   "cell_type": "code",
   "execution_count": 48,
   "id": "24842123-0f22-4131-83a5-75e7222716d8",
   "metadata": {},
   "outputs": [],
   "source": [
    "import numpy as np"
   ]
  },
  {
   "cell_type": "code",
   "execution_count": 82,
   "id": "4f1b5653-0b4f-49e7-a493-0acb06dee38b",
   "metadata": {},
   "outputs": [
    {
     "data": {
      "text/plain": [
       "array([6, 5, 5, 7, 9, 6, 7, 7, 7, 3, 3, 9, 7, 4, 3, 8], dtype=int32)"
      ]
     },
     "execution_count": 82,
     "metadata": {},
     "output_type": "execute_result"
    }
   ],
   "source": [
    "x = np.random.randint(1, 10, 16)\n",
    "x"
   ]
  },
  {
   "cell_type": "code",
   "execution_count": 83,
   "id": "79449df0-88d2-4f3b-8116-2e0e11854e7d",
   "metadata": {},
   "outputs": [],
   "source": [
    "probabilities = np.exp(x) / np.exp(x).sum()\n",
    "sorted_indices = np.argsort(1 - probabilities)"
   ]
  },
  {
   "cell_type": "code",
   "execution_count": 84,
   "id": "d960b3ca-5545-4b23-ad59-f9f2853ae019",
   "metadata": {},
   "outputs": [
    {
     "data": {
      "text/plain": [
       "array([0.016, 0.006, 0.006, 0.042, 0.313, 0.016, 0.042, 0.042, 0.042,\n",
       "       0.001, 0.001, 0.313, 0.042, 0.002, 0.001, 0.115])"
      ]
     },
     "execution_count": 84,
     "metadata": {},
     "output_type": "execute_result"
    }
   ],
   "source": [
    "np.round(probabilities, 3)"
   ]
  },
  {
   "cell_type": "code",
   "execution_count": 85,
   "id": "75caeaae-260f-4f04-87fa-59a0ed0a4cdc",
   "metadata": {},
   "outputs": [
    {
     "data": {
      "text/plain": [
       "array([0.313, 0.313, 0.115, 0.042, 0.042, 0.042, 0.042, 0.042, 0.016,\n",
       "       0.016, 0.006, 0.006, 0.002, 0.001, 0.001, 0.001])"
      ]
     },
     "execution_count": 85,
     "metadata": {},
     "output_type": "execute_result"
    }
   ],
   "source": [
    "np.round(probabilities[sorted_indices], 3)"
   ]
  },
  {
   "cell_type": "code",
   "execution_count": 87,
   "id": "3fde01ce-d92d-4ab7-95d3-61404a169510",
   "metadata": {},
   "outputs": [
    {
     "data": {
      "text/plain": [
       "array([0, 0, 0, 7, 9, 0, 7, 0, 7, 0, 0, 9, 7, 0, 0, 8], dtype=int32)"
      ]
     },
     "execution_count": 87,
     "metadata": {},
     "output_type": "execute_result"
    }
   ],
   "source": [
    "probabilities = np.exp(x) / np.exp(x).sum()\n",
    "sorted_indices = np.argsort(-x)\n",
    "\n",
    "for idx in range(1, len(sorted_indices)):\n",
    "    if probabilities[sorted_indices[:idx]].sum() > 0.9:\n",
    "        break\n",
    "\n",
    "x[sorted_indices[idx:]] = 0\n",
    "x"
   ]
  },
  {
   "cell_type": "code",
   "execution_count": null,
   "id": "7e03f03f-fd7a-4de9-b4de-04cb1a8523de",
   "metadata": {},
   "outputs": [],
   "source": [
    "probabilities"
   ]
  },
  {
   "cell_type": "code",
   "execution_count": null,
   "id": "f39a6ce3-9bdb-4a9c-9146-e1b07df01003",
   "metadata": {},
   "outputs": [],
   "source": [
    "sorted_indices"
   ]
  },
  {
   "cell_type": "code",
   "execution_count": null,
   "id": "5685f288-0b7b-4231-ae5a-4bde9d30fbc7",
   "metadata": {},
   "outputs": [],
   "source": [
    "probabilities[sorted_indices[:idx]].sum().item()"
   ]
  },
  {
   "cell_type": "code",
   "execution_count": null,
   "id": "d59882a4-a498-4ddb-8a9b-9b42ac7cdd91",
   "metadata": {},
   "outputs": [],
   "source": []
  }
 ],
 "metadata": {
  "kernelspec": {
   "display_name": "Python 3 (ipykernel)",
   "language": "python",
   "name": "python3"
  },
  "language_info": {
   "codemirror_mode": {
    "name": "ipython",
    "version": 3
   },
   "file_extension": ".py",
   "mimetype": "text/x-python",
   "name": "python",
   "nbconvert_exporter": "python",
   "pygments_lexer": "ipython3",
   "version": "3.12.6"
  }
 },
 "nbformat": 4,
 "nbformat_minor": 5
}
