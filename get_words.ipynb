{
 "cells": [
  {
   "cell_type": "code",
   "execution_count": 1,
   "id": "2535d211-ed1a-4afa-9e97-0d46cc4136a9",
   "metadata": {},
   "outputs": [],
   "source": [
    "import os\n",
    "import requests\n",
    "import project_paths as pp"
   ]
  },
  {
   "cell_type": "code",
   "execution_count": 2,
   "id": "5c39d817-c7b1-42fa-94e2-65b4d847d920",
   "metadata": {},
   "outputs": [],
   "source": [
    "if 'words.txt' not in os.listdir(pp.datasets_folder_path):\n",
    "    word_site = 'https://www.mit.edu/~ecprice/wordlist.10000'\n",
    "    \n",
    "    response = requests.get(word_site)\n",
    "    words = response.content.splitlines()\n",
    "    with open(os.path.join(pp.datasets_folder_path, 'words.txt'), 'w') as file:\n",
    "        for word in words:\n",
    "            file.write(f'{word.decode(\"UTF-8\")}\\n')"
   ]
  },
  {
   "cell_type": "code",
   "execution_count": null,
   "id": "0cbd1951-917f-40fa-95e1-7e8156c33355",
   "metadata": {},
   "outputs": [],
   "source": []
  }
 ],
 "metadata": {
  "kernelspec": {
   "display_name": "Python 3 (ipykernel)",
   "language": "python",
   "name": "python3"
  },
  "language_info": {
   "codemirror_mode": {
    "name": "ipython",
    "version": 3
   },
   "file_extension": ".py",
   "mimetype": "text/x-python",
   "name": "python",
   "nbconvert_exporter": "python",
   "pygments_lexer": "ipython3",
   "version": "3.12.6"
  }
 },
 "nbformat": 4,
 "nbformat_minor": 5
}
