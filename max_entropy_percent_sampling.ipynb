{
 "cells": [
  {
   "cell_type": "code",
   "execution_count": 1,
   "id": "79c8e099-f635-434a-953b-dbf6345b7f49",
   "metadata": {},
   "outputs": [],
   "source": [
    "import os\n",
    "import random\n",
    "import numpy as np\n",
    "\n",
    "import plotly\n",
    "import plotly.graph_objs as go\n",
    "import plotly.subplots as sp\n",
    "\n",
    "from colors import colors\n",
    "from functions import *\n",
    "\n",
    "import project_paths as pp\n",
    "\n",
    "from IPython.display import *\n",
    "import ipywidgets as widgets"
   ]
  },
  {
   "cell_type": "code",
   "execution_count": 2,
   "id": "6d3baf3c-7cb7-412e-8324-6451c097f22c",
   "metadata": {},
   "outputs": [],
   "source": [
    "with open(os.path.join(pp.datasets_folder_path, 'words.txt')) as file:\n",
    "    words = file.read().splitlines()"
   ]
  },
  {
   "cell_type": "code",
   "execution_count": 5,
   "id": "1f594964-a0c5-4bc6-bb0a-d6edaf3255df",
   "metadata": {},
   "outputs": [],
   "source": [
    "np.random.seed(200)\n",
    "random.seed(200)\n",
    "\n",
    "vocab_size = 100\n",
    "vocab = sorted(random.sample(words, vocab_size))\n",
    "\n",
    "\n",
    "original_logits = np.random.normal(0, 0.01, size=vocab_size)\n",
    "sorted_indices = np.argsort(-original_logits)\n",
    "original_logits = original_logits[sorted_indices]\n",
    "\n",
    "original_pmf = convert_logits_to_probabilities(original_logits)\n",
    "\n",
    "max_entropy = np.nansum(-original_pmf * np.log2(original_pmf))\n",
    "p_cumsum = []\n",
    "entropies = []\n",
    "entropies_percent = []\n",
    "for i in range(vocab_size):\n",
    "    effective_logits = select_top_k(original_logits, i + 1)\n",
    "    effective_pmf = convert_logits_to_probabilities(effective_logits)\n",
    "    p_cumsum.append(np.nansum(original_pmf[:i + 1]))\n",
    "    entropy = np.nansum(-effective_pmf * np.log2(effective_pmf))\n",
    "    entropies.append(entropy)\n",
    "    entropies_percent.append(entropy / max_entropy)\n",
    "\n",
    "p_cumsum = np.array(p_cumsum)\n",
    "entropies = np.array(entropies)\n",
    "entropies_percent = np.array(entropies_percent)"
   ]
  },
  {
   "cell_type": "code",
   "execution_count": 6,
   "id": "229f4567-8029-4edf-9b7a-2e2613b99d7f",
   "metadata": {},
   "outputs": [
    {
     "data": {
      "application/vnd.plotly.v1+json": {
       "config": {
        "plotlyServerURL": "https://plot.ly"
       },
       "data": [
        {
         "legendgroup": "original",
         "marker": {
          "color": "rgba(226, 124, 124, 1)"
         },
         "name": "Original Logits",
         "type": "bar",
         "x": [
          "acc",
          "adware",
          "aggregate",
          "aggressive",
          "alcohol",
          "always",
          "answered",
          "arbitrary",
          "archived",
          "attorneys",
          "balance",
          "ball",
          "band",
          "boutique",
          "breasts",
          "brighton",
          "citation",
          "classroom",
          "coin",
          "community",
          "conflicts",
          "constraint",
          "consumer",
          "continuing",
          "counter",
          "dangerous",
          "darkness",
          "deaths",
          "define",
          "disease",
          "dow",
          "dried",
          "essence",
          "everyday",
          "expenditure",
          "exports",
          "fame",
          "fancy",
          "finish",
          "florists",
          "fucked",
          "fucking",
          "gateway",
          "generator",
          "gorgeous",
          "guess",
          "heater",
          "ho",
          "hottest",
          "identification",
          "influence",
          "insertion",
          "interactive",
          "jaguar",
          "jennifer",
          "journal",
          "kills",
          "lay",
          "leaving",
          "list",
          "loc",
          "macedonia",
          "milfhunter",
          "millions",
          "mold",
          "msgstr",
          "nationally",
          "needle",
          "organised",
          "ozone",
          "particle",
          "promptly",
          "purple",
          "rabbit",
          "radius",
          "raised",
          "reduced",
          "referrals",
          "resistant",
          "reuters",
          "riding",
          "roof",
          "sc",
          "scanners",
          "screenshots",
          "senator",
          "sense",
          "shall",
          "spain",
          "ssl",
          "stages",
          "striking",
          "sunshine",
          "template",
          "theology",
          "things",
          "tools",
          "turn",
          "vendors",
          "virtue"
         ],
         "xaxis": "x",
         "y": [
          0.023480512193748505,
          0.02246989673103566,
          0.022179665323725374,
          0.02213380496596502,
          0.021860949465976675,
          0.02083474224850555,
          0.01911711781021635,
          0.01910953133930837,
          0.018421351581386566,
          0.017785724906185886,
          0.017110687457495954,
          0.015820319646340078,
          0.013376414100748467,
          0.01303286033457417,
          0.012149840402113645,
          0.011927979160765791,
          0.011177359059836266,
          0.010173489526279179,
          0.00985309085205296,
          0.009782361456949952,
          0.009470294463476626,
          0.009074440828862105,
          0.008227228082395113,
          0.007920059304997127,
          0.0077328416710269925,
          0.0074731892605878125,
          0.007125135014308407,
          0.007118791535570425,
          0.006904918936230094,
          0.006438291047573355,
          0.006431160559197723,
          0.0060437585821077715,
          0.005564257672511942,
          0.005537017737903624,
          0.005251857820114664,
          0.004772567765890197,
          0.00463138723272513,
          0.003614662347295585,
          0.003401740967439032,
          0.0026746039788703904,
          0.0026300360024686543,
          0.002376314974094825,
          0.0021853781424668725,
          0.0021348149028390553,
          0.0019991276832296966,
          0.00181991085116278,
          0.0016227963718541485,
          0.0009743797680365618,
          0.000732491338435717,
          0.0006986397365800577,
          0.0006739449666974959,
          0.0004974017227270484,
          0.00025705738717746065,
          -0.00014711026369144844,
          -0.0003008042217415672,
          -0.00031434328659419144,
          -0.00032949671136492517,
          -0.0005358755101043169,
          -0.0006996847212145073,
          -0.0007213603086545804,
          -0.0015125239000764535,
          -0.001968985032793296,
          -0.002135185858630626,
          -0.002213467176273389,
          -0.0023276789932288404,
          -0.0024088278139480284,
          -0.002477382867934915,
          -0.002482180628251883,
          -0.002946572740642971,
          -0.003064240726593665,
          -0.003317522628235861,
          -0.0033215112645323436,
          -0.0035644506769105526,
          -0.003916012025838462,
          -0.004040819189586996,
          -0.00482868548563525,
          -0.0052967163142602,
          -0.005640693453695781,
          -0.006536076839104062,
          -0.0066553423373143916,
          -0.006832201658285047,
          -0.006865234429214754,
          -0.006919393741279137,
          -0.008464075354720135,
          -0.00862916286329505,
          -0.008630170399664117,
          -0.009846358286691698,
          -0.010090032165333053,
          -0.010572350817086993,
          -0.011514176307709147,
          -0.011541817706052017,
          -0.012814290093816688,
          -0.012937590832496397,
          -0.014509482493662554,
          -0.015200740796843769,
          -0.0163806699633484,
          -0.01867935275560309,
          -0.019556629526169732,
          -0.020065345285897724,
          -0.025579809603071775
         ],
         "yaxis": "y"
        },
        {
         "legendgroup": "original",
         "marker": {
          "color": "rgba(215, 101, 139, 1)"
         },
         "name": "Original Probability Mass Function",
         "type": "bar",
         "x": [
          "acc",
          "adware",
          "aggregate",
          "aggressive",
          "alcohol",
          "always",
          "answered",
          "arbitrary",
          "archived",
          "attorneys",
          "balance",
          "ball",
          "band",
          "boutique",
          "breasts",
          "brighton",
          "citation",
          "classroom",
          "coin",
          "community",
          "conflicts",
          "constraint",
          "consumer",
          "continuing",
          "counter",
          "dangerous",
          "darkness",
          "deaths",
          "define",
          "disease",
          "dow",
          "dried",
          "essence",
          "everyday",
          "expenditure",
          "exports",
          "fame",
          "fancy",
          "finish",
          "florists",
          "fucked",
          "fucking",
          "gateway",
          "generator",
          "gorgeous",
          "guess",
          "heater",
          "ho",
          "hottest",
          "identification",
          "influence",
          "insertion",
          "interactive",
          "jaguar",
          "jennifer",
          "journal",
          "kills",
          "lay",
          "leaving",
          "list",
          "loc",
          "macedonia",
          "milfhunter",
          "millions",
          "mold",
          "msgstr",
          "nationally",
          "needle",
          "organised",
          "ozone",
          "particle",
          "promptly",
          "purple",
          "rabbit",
          "radius",
          "raised",
          "reduced",
          "referrals",
          "resistant",
          "reuters",
          "riding",
          "roof",
          "sc",
          "scanners",
          "screenshots",
          "senator",
          "sense",
          "shall",
          "spain",
          "ssl",
          "stages",
          "striking",
          "sunshine",
          "template",
          "theology",
          "things",
          "tools",
          "turn",
          "vendors",
          "virtue"
         ],
         "xaxis": "x2",
         "y": [
          0.01022205315742971,
          0.010211727810804426,
          0.010208764476717942,
          0.010208296309861978,
          0.010205511300038224,
          0.0101950437025648,
          0.01017754747662597,
          0.010177470265251006,
          0.01017046874565596,
          0.010164006178529538,
          0.010157147408953921,
          0.010144049405322781,
          0.010119288575614905,
          0.010115812653031084,
          0.010106884131436837,
          0.010104642054301484,
          0.01009706015278266,
          0.010086929107691342,
          0.010083697786661351,
          0.010082984598038497,
          0.010079838522268486,
          0.010075849171204772,
          0.010067316398402769,
          0.010064224508023398,
          0.010062340484090014,
          0.010059728112297654,
          0.010056227390467644,
          0.010056163599205336,
          0.010054013091332536,
          0.010049322702849342,
          0.010049251046526101,
          0.010045358700802299,
          0.010040543096803564,
          0.010040269596791253,
          0.010037406922517832,
          0.010032597245916817,
          0.010031180938468482,
          0.010020987170185172,
          0.010018853714906554,
          0.010011571283770776,
          0.010011125098240925,
          0.010008585387488457,
          0.010006674562334747,
          0.010006168605242496,
          0.010004810988153236,
          0.010003018118283538,
          0.010001046572892093,
          0.009994563830224804,
          0.00999214655324282,
          0.009991808308801106,
          0.009991561566440845,
          0.009989797779446493,
          0.009987397076646134,
          0.009983361309449584,
          0.009981827045041894,
          0.009981691901353045,
          0.009981540645681757,
          0.009979480879867041,
          0.009977846282861498,
          0.009977630009525866,
          0.0099697391938083,
          0.009965189433836294,
          0.009963533348747933,
          0.00996275342075631,
          0.00996161562156254,
          0.009960807281000777,
          0.009960124440726218,
          0.009960076654551057,
          0.009955452347342875,
          0.00995428097823361,
          0.009951760058283137,
          0.009951720364410917,
          0.009949302992962724,
          0.009945805817353532,
          0.009944564586997107,
          0.009936732685380922,
          0.009932083076313427,
          0.009928667254304222,
          0.009919781269380768,
          0.009918598252273503,
          0.009916844210835486,
          0.009916516635402717,
          0.009915979578227123,
          0.00990067437077289,
          0.009899040028016306,
          0.009899030054378482,
          0.009886998291857973,
          0.009884589382142182,
          0.00987982300986577,
          0.009870522321212574,
          0.009870249489943977,
          0.009857697857504144,
          0.0098564824710072,
          0.00984100131893714,
          0.009834200995724537,
          0.009822604178197488,
          0.009800051058163187,
          0.009791457471047814,
          0.00978647766908085,
          0.009732659014092458
         ],
         "yaxis": "y2"
        },
        {
         "legendgroup": "effective",
         "marker": {
          "color": "rgba(142, 113, 152, 1)"
         },
         "name": "Cumulative Probabilities",
         "type": "bar",
         "x": [
          "acc",
          "adware",
          "aggregate",
          "aggressive",
          "alcohol",
          "always",
          "answered",
          "arbitrary",
          "archived",
          "attorneys",
          "balance",
          "ball",
          "band",
          "boutique",
          "breasts",
          "brighton",
          "citation",
          "classroom",
          "coin",
          "community",
          "conflicts",
          "constraint",
          "consumer",
          "continuing",
          "counter",
          "dangerous",
          "darkness",
          "deaths",
          "define",
          "disease",
          "dow",
          "dried",
          "essence",
          "everyday",
          "expenditure",
          "exports",
          "fame",
          "fancy",
          "finish",
          "florists",
          "fucked",
          "fucking",
          "gateway",
          "generator",
          "gorgeous",
          "guess",
          "heater",
          "ho",
          "hottest",
          "identification",
          "influence",
          "insertion",
          "interactive",
          "jaguar",
          "jennifer",
          "journal",
          "kills",
          "lay",
          "leaving",
          "list",
          "loc",
          "macedonia",
          "milfhunter",
          "millions",
          "mold",
          "msgstr",
          "nationally",
          "needle",
          "organised",
          "ozone",
          "particle",
          "promptly",
          "purple",
          "rabbit",
          "radius",
          "raised",
          "reduced",
          "referrals",
          "resistant",
          "reuters",
          "riding",
          "roof",
          "sc",
          "scanners",
          "screenshots",
          "senator",
          "sense",
          "shall",
          "spain",
          "ssl",
          "stages",
          "striking",
          "sunshine",
          "template",
          "theology",
          "things",
          "tools",
          "turn",
          "vendors",
          "virtue"
         ],
         "xaxis": "x3",
         "y": [
          0.01022205315742971,
          0.020433780968234137,
          0.03064254544495208,
          0.04085084175481406,
          0.05105635305485228,
          0.06125139675741708,
          0.07142894423404306,
          0.08160641449929405,
          0.09177688324495001,
          0.10194088942347955,
          0.11209803683243347,
          0.12224208623775625,
          0.13236137481337115,
          0.14247718746640223,
          0.15258407159783907,
          0.16268871365214058,
          0.17278577380492324,
          0.1828727029126146,
          0.19295640069927594,
          0.20303938529731444,
          0.21311922381958293,
          0.2231950729907877,
          0.23326238938919047,
          0.24332661389721383,
          0.2533889543813038,
          0.2634486824936015,
          0.2735049098840691,
          0.2835610734832745,
          0.293615086574607,
          0.30366440927745636,
          0.31371366032398246,
          0.32375901902478477,
          0.33379956212158834,
          0.3438398317183796,
          0.35387723864089743,
          0.36390983588681425,
          0.37394101682528275,
          0.3839620039954679,
          0.3939808577103745,
          0.4039924289941452,
          0.41400355409238615,
          0.4240121394798746,
          0.4340188140422093,
          0.4440249826474518,
          0.4540297936356051,
          0.4640328117538886,
          0.4740338583267807,
          0.48402842215700553,
          0.49402056871024835,
          0.5040123770190494,
          0.5140039385854903,
          0.5239937363649368,
          0.5339811334415829,
          0.5439644947510325,
          0.5539463217960744,
          0.5639280136974274,
          0.5739095543431092,
          0.5838890352229762,
          0.5938668815058377,
          0.6038445115153636,
          0.6138142507091718,
          0.6237794401430081,
          0.633742973491756,
          0.6437057269125124,
          0.6536673425340749,
          0.6636281498150757,
          0.6735882742558019,
          0.6835483509103529,
          0.6935038032576958,
          0.7034580842359294,
          0.7134098442942125,
          0.7233615646586236,
          0.7333108676515863,
          0.7432566734689398,
          0.7532012380559369,
          0.7631379707413177,
          0.7730700538176312,
          0.7829987210719354,
          0.7929185023413161,
          0.8028371005935897,
          0.8127539448044252,
          0.8226704614398279,
          0.832586441018055,
          0.8424871153888279,
          0.8523861554168443,
          0.8622851854712228,
          0.8721721837630808,
          0.8820567731452229,
          0.8919365961550887,
          0.9018071184763012,
          0.9116773679662452,
          0.9215350658237493,
          0.9313915482947566,
          0.9412325496136937,
          0.9510667506094183,
          0.9608893547876158,
          0.970689405845779,
          0.9804808633168268,
          0.9902673409859076,
          1
         ],
         "yaxis": "y3"
        },
        {
         "legendgroup": "effective",
         "marker": {
          "color": "rgba(89, 158, 148, 1)"
         },
         "name": "Entropy Percents",
         "type": "bar",
         "x": [
          "acc",
          "adware",
          "aggregate",
          "aggressive",
          "alcohol",
          "always",
          "answered",
          "arbitrary",
          "archived",
          "attorneys",
          "balance",
          "ball",
          "band",
          "boutique",
          "breasts",
          "brighton",
          "citation",
          "classroom",
          "coin",
          "community",
          "conflicts",
          "constraint",
          "consumer",
          "continuing",
          "counter",
          "dangerous",
          "darkness",
          "deaths",
          "define",
          "disease",
          "dow",
          "dried",
          "essence",
          "everyday",
          "expenditure",
          "exports",
          "fame",
          "fancy",
          "finish",
          "florists",
          "fucked",
          "fucking",
          "gateway",
          "generator",
          "gorgeous",
          "guess",
          "heater",
          "ho",
          "hottest",
          "identification",
          "influence",
          "insertion",
          "interactive",
          "jaguar",
          "jennifer",
          "journal",
          "kills",
          "lay",
          "leaving",
          "list",
          "loc",
          "macedonia",
          "milfhunter",
          "millions",
          "mold",
          "msgstr",
          "nationally",
          "needle",
          "organised",
          "ozone",
          "particle",
          "promptly",
          "purple",
          "rabbit",
          "radius",
          "raised",
          "reduced",
          "referrals",
          "resistant",
          "reuters",
          "riding",
          "roof",
          "sc",
          "scanners",
          "screenshots",
          "senator",
          "sense",
          "shall",
          "spain",
          "ssl",
          "stages",
          "striking",
          "sunshine",
          "template",
          "theology",
          "things",
          "tools",
          "turn",
          "vendors",
          "virtue"
         ],
         "xaxis": "x4",
         "y": [
          0,
          0.15051671541382042,
          0.23856335984346225,
          0.30103345418900584,
          0.3494890203330557,
          0.3890800700277389,
          0.4225537395512338,
          0.4515499905353931,
          0.4771264798459284,
          0.5000054159141278,
          0.5207019150490768,
          0.5395962788062139,
          0.5569772394323169,
          0.5730695293763287,
          0.588051068779499,
          0.6020653967810625,
          0.615229817072965,
          0.6276415234378145,
          0.6393820093387113,
          0.6505201809197371,
          0.6611148156452006,
          0.6712164962415829,
          0.6808690320300719,
          0.6901107023646279,
          0.6989750679899168,
          0.7074917271212914,
          0.7156869252143153,
          0.7235840676349496,
          0.731204064370234,
          0.7385656968552831,
          0.745685934650447,
          0.7525800889264183,
          0.7592620713111828,
          0.7657445729083494,
          0.7720391477754517,
          0.7781563765890978,
          0.7841059937884967,
          0.7898969007140508,
          0.795537380068428,
          0.8010350256560005,
          0.8063969236514299,
          0.8116296070169982,
          0.8167391597864713,
          0.8217312494624772,
          0.8266111518915269,
          0.8313837969144281,
          0.836053797365292,
          0.840625457805963,
          0.845102849928627,
          0.8494897908132558,
          0.8537898628765969,
          0.8580064340924142,
          0.8621426833219169,
          0.8662016076162722,
          0.8701860537011982,
          0.8740987103362347,
          0.8779421184981802,
          0.8817186805089903,
          0.8854306831768933,
          0.8890803010715286,
          0.8926695721649471,
          0.8962004695697279,
          0.8996748709154128,
          0.9030945584443638,
          0.9064612274895614,
          0.9097764979145835,
          0.9130419158454005,
          0.9162589601757998,
          0.9194290297307637,
          0.9225534865885554,
          0.9256336207560845,
          0.928670679252672,
          0.9316658435046188,
          0.9346202504298201,
          0.937535000668589,
          0.9404111256275965,
          0.9432496442131781,
          0.9460515306198574,
          0.9488177009197615,
          0.9515490779319924,
          0.9542465242129828,
          0.9569108768037262,
          0.9595429371796755,
          0.9621434321033376,
          0.9647131523766426,
          0.9672528230971119,
          0.9697630990362378,
          0.9722446843251739,
          0.974698219165528,
          0.9771243140812063,
          0.9795236076656436,
          0.9818966408800913,
          0.9842440232542553,
          0.9865662484854264,
          0.9888638819636381,
          0.9911374182265386,
          0.9933873052421871,
          0.9956140893535411,
          0.9978182566450366,
          1
         ],
         "yaxis": "y4"
        }
       ],
       "layout": {
        "height": 1200,
        "legend": {
         "orientation": "h",
         "x": 0.5,
         "xanchor": "center",
         "y": 1,
         "yanchor": "bottom"
        },
        "showlegend": true,
        "template": {
         "data": {
          "bar": [
           {
            "error_x": {
             "color": "#2a3f5f"
            },
            "error_y": {
             "color": "#2a3f5f"
            },
            "marker": {
             "line": {
              "color": "#E5ECF6",
              "width": 0.5
             },
             "pattern": {
              "fillmode": "overlay",
              "size": 10,
              "solidity": 0.2
             }
            },
            "type": "bar"
           }
          ],
          "barpolar": [
           {
            "marker": {
             "line": {
              "color": "#E5ECF6",
              "width": 0.5
             },
             "pattern": {
              "fillmode": "overlay",
              "size": 10,
              "solidity": 0.2
             }
            },
            "type": "barpolar"
           }
          ],
          "carpet": [
           {
            "aaxis": {
             "endlinecolor": "#2a3f5f",
             "gridcolor": "white",
             "linecolor": "white",
             "minorgridcolor": "white",
             "startlinecolor": "#2a3f5f"
            },
            "baxis": {
             "endlinecolor": "#2a3f5f",
             "gridcolor": "white",
             "linecolor": "white",
             "minorgridcolor": "white",
             "startlinecolor": "#2a3f5f"
            },
            "type": "carpet"
           }
          ],
          "choropleth": [
           {
            "colorbar": {
             "outlinewidth": 0,
             "ticks": ""
            },
            "type": "choropleth"
           }
          ],
          "contour": [
           {
            "colorbar": {
             "outlinewidth": 0,
             "ticks": ""
            },
            "colorscale": [
             [
              0,
              "#0d0887"
             ],
             [
              0.1111111111111111,
              "#46039f"
             ],
             [
              0.2222222222222222,
              "#7201a8"
             ],
             [
              0.3333333333333333,
              "#9c179e"
             ],
             [
              0.4444444444444444,
              "#bd3786"
             ],
             [
              0.5555555555555556,
              "#d8576b"
             ],
             [
              0.6666666666666666,
              "#ed7953"
             ],
             [
              0.7777777777777778,
              "#fb9f3a"
             ],
             [
              0.8888888888888888,
              "#fdca26"
             ],
             [
              1,
              "#f0f921"
             ]
            ],
            "type": "contour"
           }
          ],
          "contourcarpet": [
           {
            "colorbar": {
             "outlinewidth": 0,
             "ticks": ""
            },
            "type": "contourcarpet"
           }
          ],
          "heatmap": [
           {
            "colorbar": {
             "outlinewidth": 0,
             "ticks": ""
            },
            "colorscale": [
             [
              0,
              "#0d0887"
             ],
             [
              0.1111111111111111,
              "#46039f"
             ],
             [
              0.2222222222222222,
              "#7201a8"
             ],
             [
              0.3333333333333333,
              "#9c179e"
             ],
             [
              0.4444444444444444,
              "#bd3786"
             ],
             [
              0.5555555555555556,
              "#d8576b"
             ],
             [
              0.6666666666666666,
              "#ed7953"
             ],
             [
              0.7777777777777778,
              "#fb9f3a"
             ],
             [
              0.8888888888888888,
              "#fdca26"
             ],
             [
              1,
              "#f0f921"
             ]
            ],
            "type": "heatmap"
           }
          ],
          "heatmapgl": [
           {
            "colorbar": {
             "outlinewidth": 0,
             "ticks": ""
            },
            "colorscale": [
             [
              0,
              "#0d0887"
             ],
             [
              0.1111111111111111,
              "#46039f"
             ],
             [
              0.2222222222222222,
              "#7201a8"
             ],
             [
              0.3333333333333333,
              "#9c179e"
             ],
             [
              0.4444444444444444,
              "#bd3786"
             ],
             [
              0.5555555555555556,
              "#d8576b"
             ],
             [
              0.6666666666666666,
              "#ed7953"
             ],
             [
              0.7777777777777778,
              "#fb9f3a"
             ],
             [
              0.8888888888888888,
              "#fdca26"
             ],
             [
              1,
              "#f0f921"
             ]
            ],
            "type": "heatmapgl"
           }
          ],
          "histogram": [
           {
            "marker": {
             "pattern": {
              "fillmode": "overlay",
              "size": 10,
              "solidity": 0.2
             }
            },
            "type": "histogram"
           }
          ],
          "histogram2d": [
           {
            "colorbar": {
             "outlinewidth": 0,
             "ticks": ""
            },
            "colorscale": [
             [
              0,
              "#0d0887"
             ],
             [
              0.1111111111111111,
              "#46039f"
             ],
             [
              0.2222222222222222,
              "#7201a8"
             ],
             [
              0.3333333333333333,
              "#9c179e"
             ],
             [
              0.4444444444444444,
              "#bd3786"
             ],
             [
              0.5555555555555556,
              "#d8576b"
             ],
             [
              0.6666666666666666,
              "#ed7953"
             ],
             [
              0.7777777777777778,
              "#fb9f3a"
             ],
             [
              0.8888888888888888,
              "#fdca26"
             ],
             [
              1,
              "#f0f921"
             ]
            ],
            "type": "histogram2d"
           }
          ],
          "histogram2dcontour": [
           {
            "colorbar": {
             "outlinewidth": 0,
             "ticks": ""
            },
            "colorscale": [
             [
              0,
              "#0d0887"
             ],
             [
              0.1111111111111111,
              "#46039f"
             ],
             [
              0.2222222222222222,
              "#7201a8"
             ],
             [
              0.3333333333333333,
              "#9c179e"
             ],
             [
              0.4444444444444444,
              "#bd3786"
             ],
             [
              0.5555555555555556,
              "#d8576b"
             ],
             [
              0.6666666666666666,
              "#ed7953"
             ],
             [
              0.7777777777777778,
              "#fb9f3a"
             ],
             [
              0.8888888888888888,
              "#fdca26"
             ],
             [
              1,
              "#f0f921"
             ]
            ],
            "type": "histogram2dcontour"
           }
          ],
          "mesh3d": [
           {
            "colorbar": {
             "outlinewidth": 0,
             "ticks": ""
            },
            "type": "mesh3d"
           }
          ],
          "parcoords": [
           {
            "line": {
             "colorbar": {
              "outlinewidth": 0,
              "ticks": ""
             }
            },
            "type": "parcoords"
           }
          ],
          "pie": [
           {
            "automargin": true,
            "type": "pie"
           }
          ],
          "scatter": [
           {
            "fillpattern": {
             "fillmode": "overlay",
             "size": 10,
             "solidity": 0.2
            },
            "type": "scatter"
           }
          ],
          "scatter3d": [
           {
            "line": {
             "colorbar": {
              "outlinewidth": 0,
              "ticks": ""
             }
            },
            "marker": {
             "colorbar": {
              "outlinewidth": 0,
              "ticks": ""
             }
            },
            "type": "scatter3d"
           }
          ],
          "scattercarpet": [
           {
            "marker": {
             "colorbar": {
              "outlinewidth": 0,
              "ticks": ""
             }
            },
            "type": "scattercarpet"
           }
          ],
          "scattergeo": [
           {
            "marker": {
             "colorbar": {
              "outlinewidth": 0,
              "ticks": ""
             }
            },
            "type": "scattergeo"
           }
          ],
          "scattergl": [
           {
            "marker": {
             "colorbar": {
              "outlinewidth": 0,
              "ticks": ""
             }
            },
            "type": "scattergl"
           }
          ],
          "scattermapbox": [
           {
            "marker": {
             "colorbar": {
              "outlinewidth": 0,
              "ticks": ""
             }
            },
            "type": "scattermapbox"
           }
          ],
          "scatterpolar": [
           {
            "marker": {
             "colorbar": {
              "outlinewidth": 0,
              "ticks": ""
             }
            },
            "type": "scatterpolar"
           }
          ],
          "scatterpolargl": [
           {
            "marker": {
             "colorbar": {
              "outlinewidth": 0,
              "ticks": ""
             }
            },
            "type": "scatterpolargl"
           }
          ],
          "scatterternary": [
           {
            "marker": {
             "colorbar": {
              "outlinewidth": 0,
              "ticks": ""
             }
            },
            "type": "scatterternary"
           }
          ],
          "surface": [
           {
            "colorbar": {
             "outlinewidth": 0,
             "ticks": ""
            },
            "colorscale": [
             [
              0,
              "#0d0887"
             ],
             [
              0.1111111111111111,
              "#46039f"
             ],
             [
              0.2222222222222222,
              "#7201a8"
             ],
             [
              0.3333333333333333,
              "#9c179e"
             ],
             [
              0.4444444444444444,
              "#bd3786"
             ],
             [
              0.5555555555555556,
              "#d8576b"
             ],
             [
              0.6666666666666666,
              "#ed7953"
             ],
             [
              0.7777777777777778,
              "#fb9f3a"
             ],
             [
              0.8888888888888888,
              "#fdca26"
             ],
             [
              1,
              "#f0f921"
             ]
            ],
            "type": "surface"
           }
          ],
          "table": [
           {
            "cells": {
             "fill": {
              "color": "#EBF0F8"
             },
             "line": {
              "color": "white"
             }
            },
            "header": {
             "fill": {
              "color": "#C8D4E3"
             },
             "line": {
              "color": "white"
             }
            },
            "type": "table"
           }
          ]
         },
         "layout": {
          "annotationdefaults": {
           "arrowcolor": "#2a3f5f",
           "arrowhead": 0,
           "arrowwidth": 1
          },
          "autotypenumbers": "strict",
          "coloraxis": {
           "colorbar": {
            "outlinewidth": 0,
            "ticks": ""
           }
          },
          "colorscale": {
           "diverging": [
            [
             0,
             "#8e0152"
            ],
            [
             0.1,
             "#c51b7d"
            ],
            [
             0.2,
             "#de77ae"
            ],
            [
             0.3,
             "#f1b6da"
            ],
            [
             0.4,
             "#fde0ef"
            ],
            [
             0.5,
             "#f7f7f7"
            ],
            [
             0.6,
             "#e6f5d0"
            ],
            [
             0.7,
             "#b8e186"
            ],
            [
             0.8,
             "#7fbc41"
            ],
            [
             0.9,
             "#4d9221"
            ],
            [
             1,
             "#276419"
            ]
           ],
           "sequential": [
            [
             0,
             "#0d0887"
            ],
            [
             0.1111111111111111,
             "#46039f"
            ],
            [
             0.2222222222222222,
             "#7201a8"
            ],
            [
             0.3333333333333333,
             "#9c179e"
            ],
            [
             0.4444444444444444,
             "#bd3786"
            ],
            [
             0.5555555555555556,
             "#d8576b"
            ],
            [
             0.6666666666666666,
             "#ed7953"
            ],
            [
             0.7777777777777778,
             "#fb9f3a"
            ],
            [
             0.8888888888888888,
             "#fdca26"
            ],
            [
             1,
             "#f0f921"
            ]
           ],
           "sequentialminus": [
            [
             0,
             "#0d0887"
            ],
            [
             0.1111111111111111,
             "#46039f"
            ],
            [
             0.2222222222222222,
             "#7201a8"
            ],
            [
             0.3333333333333333,
             "#9c179e"
            ],
            [
             0.4444444444444444,
             "#bd3786"
            ],
            [
             0.5555555555555556,
             "#d8576b"
            ],
            [
             0.6666666666666666,
             "#ed7953"
            ],
            [
             0.7777777777777778,
             "#fb9f3a"
            ],
            [
             0.8888888888888888,
             "#fdca26"
            ],
            [
             1,
             "#f0f921"
            ]
           ]
          },
          "colorway": [
           "#636efa",
           "#EF553B",
           "#00cc96",
           "#ab63fa",
           "#FFA15A",
           "#19d3f3",
           "#FF6692",
           "#B6E880",
           "#FF97FF",
           "#FECB52"
          ],
          "font": {
           "color": "#2a3f5f"
          },
          "geo": {
           "bgcolor": "white",
           "lakecolor": "white",
           "landcolor": "#E5ECF6",
           "showlakes": true,
           "showland": true,
           "subunitcolor": "white"
          },
          "hoverlabel": {
           "align": "left"
          },
          "hovermode": "closest",
          "mapbox": {
           "style": "light"
          },
          "paper_bgcolor": "white",
          "plot_bgcolor": "#E5ECF6",
          "polar": {
           "angularaxis": {
            "gridcolor": "white",
            "linecolor": "white",
            "ticks": ""
           },
           "bgcolor": "#E5ECF6",
           "radialaxis": {
            "gridcolor": "white",
            "linecolor": "white",
            "ticks": ""
           }
          },
          "scene": {
           "xaxis": {
            "backgroundcolor": "#E5ECF6",
            "gridcolor": "white",
            "gridwidth": 2,
            "linecolor": "white",
            "showbackground": true,
            "ticks": "",
            "zerolinecolor": "white"
           },
           "yaxis": {
            "backgroundcolor": "#E5ECF6",
            "gridcolor": "white",
            "gridwidth": 2,
            "linecolor": "white",
            "showbackground": true,
            "ticks": "",
            "zerolinecolor": "white"
           },
           "zaxis": {
            "backgroundcolor": "#E5ECF6",
            "gridcolor": "white",
            "gridwidth": 2,
            "linecolor": "white",
            "showbackground": true,
            "ticks": "",
            "zerolinecolor": "white"
           }
          },
          "shapedefaults": {
           "line": {
            "color": "#2a3f5f"
           }
          },
          "ternary": {
           "aaxis": {
            "gridcolor": "white",
            "linecolor": "white",
            "ticks": ""
           },
           "baxis": {
            "gridcolor": "white",
            "linecolor": "white",
            "ticks": ""
           },
           "bgcolor": "#E5ECF6",
           "caxis": {
            "gridcolor": "white",
            "linecolor": "white",
            "ticks": ""
           }
          },
          "title": {
           "x": 0.05
          },
          "xaxis": {
           "automargin": true,
           "gridcolor": "white",
           "linecolor": "white",
           "ticks": "",
           "title": {
            "standoff": 15
           },
           "zerolinecolor": "white",
           "zerolinewidth": 2
          },
          "yaxis": {
           "automargin": true,
           "gridcolor": "white",
           "linecolor": "white",
           "ticks": "",
           "title": {
            "standoff": 15
           },
           "zerolinecolor": "white",
           "zerolinewidth": 2
          }
         }
        },
        "width": 600,
        "xaxis": {
         "anchor": "y",
         "autorange": true,
         "domain": [
          0,
          1
         ],
         "range": [
          -0.5,
          99.5
         ],
         "type": "category"
        },
        "xaxis2": {
         "anchor": "y2",
         "autorange": true,
         "domain": [
          0,
          1
         ],
         "range": [
          -0.5,
          99.5
         ],
         "type": "category"
        },
        "xaxis3": {
         "anchor": "y3",
         "autorange": true,
         "domain": [
          0,
          1
         ],
         "range": [
          -0.5,
          99.5
         ],
         "type": "category"
        },
        "xaxis4": {
         "anchor": "y4",
         "autorange": true,
         "domain": [
          0,
          1
         ],
         "range": [
          -0.5,
          99.5
         ],
         "type": "category"
        },
        "yaxis": {
         "anchor": "x",
         "autorange": true,
         "domain": [
          0.80625,
          1
         ],
         "range": [
          -0.028305383036228458,
          0.026206085626905188
         ],
         "title": {
          "text": "Logits"
         },
         "type": "linear"
        },
        "yaxis2": {
         "anchor": "x2",
         "autorange": true,
         "domain": [
          0.5375,
          0.73125
         ],
         "range": [
          0,
          0.010760055955189168
         ],
         "title": {
          "text": "Mass"
         },
         "type": "linear"
        },
        "yaxis3": {
         "anchor": "x3",
         "autorange": true,
         "domain": [
          0.26875,
          0.4625
         ],
         "range": [
          0,
          1.0526315789473684
         ],
         "title": {
          "text": "Cumulative Probabilities"
         },
         "type": "linear"
        },
        "yaxis4": {
         "anchor": "x4",
         "autorange": true,
         "domain": [
          0,
          0.19375
         ],
         "range": [
          0,
          1.0526315789473684
         ],
         "title": {
          "text": "Entropy %"
         },
         "type": "linear"
        }
       }
      },
      "image/png": "[encoded data removed]",
      "text/html": [
       "<div>                            <div id=\"eb8854ab-aa79-4984-a104-31804896fe7e\" class=\"plotly-graph-div\" style=\"height:1200px; width:600px;\"></div>            <script type=\"text/javascript\">                require([\"plotly\"], function(Plotly) {                    window.PLOTLYENV=window.PLOTLYENV || {};                                    if (document.getElementById(\"eb8854ab-aa79-4984-a104-31804896fe7e\")) {                    Plotly.newPlot(                        \"eb8854ab-aa79-4984-a104-31804896fe7e\",                        [{\"legendgroup\":\"original\",\"marker\":{\"color\":\"rgba(226, 124, 124, 1)\"},\"name\":\"Original Logits\",\"x\":[\"acc\",\"adware\",\"aggregate\",\"aggressive\",\"alcohol\",\"always\",\"answered\",\"arbitrary\",\"archived\",\"attorneys\",\"balance\",\"ball\",\"band\",\"boutique\",\"breasts\",\"brighton\",\"citation\",\"classroom\",\"coin\",\"community\",\"conflicts\",\"constraint\",\"consumer\",\"continuing\",\"counter\",\"dangerous\",\"darkness\",\"deaths\",\"define\",\"disease\",\"dow\",\"dried\",\"essence\",\"everyday\",\"expenditure\",\"exports\",\"fame\",\"fancy\",\"finish\",\"florists\",\"fucked\",\"fucking\",\"gateway\",\"generator\",\"gorgeous\",\"guess\",\"heater\",\"ho\",\"hottest\",\"identification\",\"influence\",\"insertion\",\"interactive\",\"jaguar\",\"jennifer\",\"journal\",\"kills\",\"lay\",\"leaving\",\"list\",\"loc\",\"macedonia\",\"milfhunter\",\"millions\",\"mold\",\"msgstr\",\"nationally\",\"needle\",\"organised\",\"ozone\",\"particle\",\"promptly\",\"purple\",\"rabbit\",\"radius\",\"raised\",\"reduced\",\"referrals\",\"resistant\",\"reuters\",\"riding\",\"roof\",\"sc\",\"scanners\",\"screenshots\",\"senator\",\"sense\",\"shall\",\"spain\",\"ssl\",\"stages\",\"striking\",\"sunshine\",\"template\",\"theology\",\"things\",\"tools\",\"turn\",\"vendors\",\"virtue\"],\"y\":[0.023480512193748505,0.02246989673103566,0.022179665323725374,0.02213380496596502,0.021860949465976675,0.02083474224850555,0.01911711781021635,0.01910953133930837,0.018421351581386566,0.017785724906185886,0.017110687457495954,0.015820319646340078,0.013376414100748467,0.01303286033457417,0.012149840402113645,0.011927979160765791,0.011177359059836266,0.010173489526279179,0.00985309085205296,0.009782361456949952,0.009470294463476626,0.009074440828862105,0.008227228082395113,0.007920059304997127,0.0077328416710269925,0.0074731892605878125,0.007125135014308407,0.007118791535570425,0.006904918936230094,0.006438291047573355,0.006431160559197723,0.0060437585821077715,0.005564257672511942,0.005537017737903624,0.005251857820114664,0.004772567765890197,0.00463138723272513,0.003614662347295585,0.003401740967439032,0.0026746039788703904,0.0026300360024686543,0.002376314974094825,0.0021853781424668725,0.0021348149028390553,0.0019991276832296966,0.00181991085116278,0.0016227963718541485,0.0009743797680365618,0.000732491338435717,0.0006986397365800577,0.0006739449666974959,0.0004974017227270484,0.00025705738717746065,-0.00014711026369144844,-0.0003008042217415672,-0.00031434328659419144,-0.00032949671136492517,-0.0005358755101043169,-0.0006996847212145073,-0.0007213603086545804,-0.0015125239000764535,-0.001968985032793296,-0.002135185858630626,-0.002213467176273389,-0.0023276789932288404,-0.0024088278139480284,-0.002477382867934915,-0.002482180628251883,-0.002946572740642971,-0.003064240726593665,-0.003317522628235861,-0.0033215112645323436,-0.0035644506769105526,-0.003916012025838462,-0.004040819189586996,-0.00482868548563525,-0.0052967163142602,-0.005640693453695781,-0.006536076839104062,-0.0066553423373143916,-0.006832201658285047,-0.006865234429214754,-0.006919393741279137,-0.008464075354720135,-0.00862916286329505,-0.008630170399664117,-0.009846358286691698,-0.010090032165333053,-0.010572350817086993,-0.011514176307709147,-0.011541817706052017,-0.012814290093816688,-0.012937590832496397,-0.014509482493662554,-0.015200740796843769,-0.0163806699633484,-0.01867935275560309,-0.019556629526169732,-0.020065345285897724,-0.025579809603071775],\"type\":\"bar\",\"xaxis\":\"x\",\"yaxis\":\"y\"},{\"legendgroup\":\"original\",\"marker\":{\"color\":\"rgba(215, 101, 139, 1)\"},\"name\":\"Original Probability Mass Function\",\"x\":[\"acc\",\"adware\",\"aggregate\",\"aggressive\",\"alcohol\",\"always\",\"answered\",\"arbitrary\",\"archived\",\"attorneys\",\"balance\",\"ball\",\"band\",\"boutique\",\"breasts\",\"brighton\",\"citation\",\"classroom\",\"coin\",\"community\",\"conflicts\",\"constraint\",\"consumer\",\"continuing\",\"counter\",\"dangerous\",\"darkness\",\"deaths\",\"define\",\"disease\",\"dow\",\"dried\",\"essence\",\"everyday\",\"expenditure\",\"exports\",\"fame\",\"fancy\",\"finish\",\"florists\",\"fucked\",\"fucking\",\"gateway\",\"generator\",\"gorgeous\",\"guess\",\"heater\",\"ho\",\"hottest\",\"identification\",\"influence\",\"insertion\",\"interactive\",\"jaguar\",\"jennifer\",\"journal\",\"kills\",\"lay\",\"leaving\",\"list\",\"loc\",\"macedonia\",\"milfhunter\",\"millions\",\"mold\",\"msgstr\",\"nationally\",\"needle\",\"organised\",\"ozone\",\"particle\",\"promptly\",\"purple\",\"rabbit\",\"radius\",\"raised\",\"reduced\",\"referrals\",\"resistant\",\"reuters\",\"riding\",\"roof\",\"sc\",\"scanners\",\"screenshots\",\"senator\",\"sense\",\"shall\",\"spain\",\"ssl\",\"stages\",\"striking\",\"sunshine\",\"template\",\"theology\",\"things\",\"tools\",\"turn\",\"vendors\",\"virtue\"],\"y\":[0.01022205315742971,0.010211727810804426,0.010208764476717942,0.010208296309861978,0.010205511300038224,0.0101950437025648,0.01017754747662597,0.010177470265251006,0.01017046874565596,0.010164006178529538,0.010157147408953921,0.010144049405322781,0.010119288575614905,0.010115812653031084,0.010106884131436837,0.010104642054301484,0.01009706015278266,0.010086929107691342,0.010083697786661351,0.010082984598038497,0.010079838522268486,0.010075849171204772,0.010067316398402769,0.010064224508023398,0.010062340484090014,0.010059728112297654,0.010056227390467644,0.010056163599205336,0.010054013091332536,0.010049322702849342,0.010049251046526101,0.010045358700802299,0.010040543096803564,0.010040269596791253,0.010037406922517832,0.010032597245916817,0.010031180938468482,0.010020987170185172,0.010018853714906554,0.010011571283770776,0.010011125098240925,0.010008585387488457,0.010006674562334747,0.010006168605242496,0.010004810988153236,0.010003018118283538,0.010001046572892093,0.009994563830224804,0.00999214655324282,0.009991808308801106,0.009991561566440845,0.009989797779446493,0.009987397076646134,0.009983361309449584,0.009981827045041894,0.009981691901353045,0.009981540645681757,0.009979480879867041,0.009977846282861498,0.009977630009525866,0.0099697391938083,0.009965189433836294,0.009963533348747933,0.00996275342075631,0.00996161562156254,0.009960807281000777,0.009960124440726218,0.009960076654551057,0.009955452347342875,0.00995428097823361,0.009951760058283137,0.009951720364410917,0.009949302992962724,0.009945805817353532,0.009944564586997107,0.009936732685380922,0.009932083076313427,0.009928667254304222,0.009919781269380768,0.009918598252273503,0.009916844210835486,0.009916516635402717,0.009915979578227123,0.00990067437077289,0.009899040028016306,0.009899030054378482,0.009886998291857973,0.009884589382142182,0.00987982300986577,0.009870522321212574,0.009870249489943977,0.009857697857504144,0.0098564824710072,0.00984100131893714,0.009834200995724537,0.009822604178197488,0.009800051058163187,0.009791457471047814,0.00978647766908085,0.009732659014092458],\"type\":\"bar\",\"xaxis\":\"x2\",\"yaxis\":\"y2\"},{\"legendgroup\":\"effective\",\"marker\":{\"color\":\"rgba(142, 113, 152, 1)\"},\"name\":\"Cumulative Probabilities\",\"x\":[\"acc\",\"adware\",\"aggregate\",\"aggressive\",\"alcohol\",\"always\",\"answered\",\"arbitrary\",\"archived\",\"attorneys\",\"balance\",\"ball\",\"band\",\"boutique\",\"breasts\",\"brighton\",\"citation\",\"classroom\",\"coin\",\"community\",\"conflicts\",\"constraint\",\"consumer\",\"continuing\",\"counter\",\"dangerous\",\"darkness\",\"deaths\",\"define\",\"disease\",\"dow\",\"dried\",\"essence\",\"everyday\",\"expenditure\",\"exports\",\"fame\",\"fancy\",\"finish\",\"florists\",\"fucked\",\"fucking\",\"gateway\",\"generator\",\"gorgeous\",\"guess\",\"heater\",\"ho\",\"hottest\",\"identification\",\"influence\",\"insertion\",\"interactive\",\"jaguar\",\"jennifer\",\"journal\",\"kills\",\"lay\",\"leaving\",\"list\",\"loc\",\"macedonia\",\"milfhunter\",\"millions\",\"mold\",\"msgstr\",\"nationally\",\"needle\",\"organised\",\"ozone\",\"particle\",\"promptly\",\"purple\",\"rabbit\",\"radius\",\"raised\",\"reduced\",\"referrals\",\"resistant\",\"reuters\",\"riding\",\"roof\",\"sc\",\"scanners\",\"screenshots\",\"senator\",\"sense\",\"shall\",\"spain\",\"ssl\",\"stages\",\"striking\",\"sunshine\",\"template\",\"theology\",\"things\",\"tools\",\"turn\",\"vendors\",\"virtue\"],\"y\":[0.01022205315742971,0.020433780968234137,0.03064254544495208,0.04085084175481406,0.05105635305485228,0.06125139675741708,0.07142894423404306,0.08160641449929405,0.09177688324495001,0.10194088942347955,0.11209803683243347,0.12224208623775625,0.13236137481337115,0.14247718746640223,0.15258407159783907,0.16268871365214058,0.17278577380492324,0.1828727029126146,0.19295640069927594,0.20303938529731444,0.21311922381958293,0.2231950729907877,0.23326238938919047,0.24332661389721383,0.2533889543813038,0.2634486824936015,0.2735049098840691,0.2835610734832745,0.293615086574607,0.30366440927745636,0.31371366032398246,0.32375901902478477,0.33379956212158834,0.3438398317183796,0.35387723864089743,0.36390983588681425,0.37394101682528275,0.3839620039954679,0.3939808577103745,0.4039924289941452,0.41400355409238615,0.4240121394798746,0.4340188140422093,0.4440249826474518,0.4540297936356051,0.4640328117538886,0.4740338583267807,0.48402842215700553,0.49402056871024835,0.5040123770190494,0.5140039385854903,0.5239937363649368,0.5339811334415829,0.5439644947510325,0.5539463217960744,0.5639280136974274,0.5739095543431092,0.5838890352229762,0.5938668815058377,0.6038445115153636,0.6138142507091718,0.6237794401430081,0.633742973491756,0.6437057269125124,0.6536673425340749,0.6636281498150757,0.6735882742558019,0.6835483509103529,0.6935038032576958,0.7034580842359294,0.7134098442942125,0.7233615646586236,0.7333108676515863,0.7432566734689398,0.7532012380559369,0.7631379707413177,0.7730700538176312,0.7829987210719354,0.7929185023413161,0.8028371005935897,0.8127539448044252,0.8226704614398279,0.832586441018055,0.8424871153888279,0.8523861554168443,0.8622851854712228,0.8721721837630808,0.8820567731452229,0.8919365961550887,0.9018071184763012,0.9116773679662452,0.9215350658237493,0.9313915482947566,0.9412325496136937,0.9510667506094183,0.9608893547876158,0.970689405845779,0.9804808633168268,0.9902673409859076,1.0],\"type\":\"bar\",\"xaxis\":\"x3\",\"yaxis\":\"y3\"},{\"legendgroup\":\"effective\",\"marker\":{\"color\":\"rgba(89, 158, 148, 1)\"},\"name\":\"Entropy Percents\",\"x\":[\"acc\",\"adware\",\"aggregate\",\"aggressive\",\"alcohol\",\"always\",\"answered\",\"arbitrary\",\"archived\",\"attorneys\",\"balance\",\"ball\",\"band\",\"boutique\",\"breasts\",\"brighton\",\"citation\",\"classroom\",\"coin\",\"community\",\"conflicts\",\"constraint\",\"consumer\",\"continuing\",\"counter\",\"dangerous\",\"darkness\",\"deaths\",\"define\",\"disease\",\"dow\",\"dried\",\"essence\",\"everyday\",\"expenditure\",\"exports\",\"fame\",\"fancy\",\"finish\",\"florists\",\"fucked\",\"fucking\",\"gateway\",\"generator\",\"gorgeous\",\"guess\",\"heater\",\"ho\",\"hottest\",\"identification\",\"influence\",\"insertion\",\"interactive\",\"jaguar\",\"jennifer\",\"journal\",\"kills\",\"lay\",\"leaving\",\"list\",\"loc\",\"macedonia\",\"milfhunter\",\"millions\",\"mold\",\"msgstr\",\"nationally\",\"needle\",\"organised\",\"ozone\",\"particle\",\"promptly\",\"purple\",\"rabbit\",\"radius\",\"raised\",\"reduced\",\"referrals\",\"resistant\",\"reuters\",\"riding\",\"roof\",\"sc\",\"scanners\",\"screenshots\",\"senator\",\"sense\",\"shall\",\"spain\",\"ssl\",\"stages\",\"striking\",\"sunshine\",\"template\",\"theology\",\"things\",\"tools\",\"turn\",\"vendors\",\"virtue\"],\"y\":[0.0,0.15051671541382042,0.23856335984346225,0.30103345418900584,0.3494890203330557,0.3890800700277389,0.4225537395512338,0.4515499905353931,0.4771264798459284,0.5000054159141278,0.5207019150490768,0.5395962788062139,0.5569772394323169,0.5730695293763287,0.588051068779499,0.6020653967810625,0.615229817072965,0.6276415234378145,0.6393820093387113,0.6505201809197371,0.6611148156452006,0.6712164962415829,0.6808690320300719,0.6901107023646279,0.6989750679899168,0.7074917271212914,0.7156869252143153,0.7235840676349496,0.731204064370234,0.7385656968552831,0.745685934650447,0.7525800889264183,0.7592620713111828,0.7657445729083494,0.7720391477754517,0.7781563765890978,0.7841059937884967,0.7898969007140508,0.795537380068428,0.8010350256560005,0.8063969236514299,0.8116296070169982,0.8167391597864713,0.8217312494624772,0.8266111518915269,0.8313837969144281,0.836053797365292,0.840625457805963,0.845102849928627,0.8494897908132558,0.8537898628765969,0.8580064340924142,0.8621426833219169,0.8662016076162722,0.8701860537011982,0.8740987103362347,0.8779421184981802,0.8817186805089903,0.8854306831768933,0.8890803010715286,0.8926695721649471,0.8962004695697279,0.8996748709154128,0.9030945584443638,0.9064612274895614,0.9097764979145835,0.9130419158454005,0.9162589601757998,0.9194290297307637,0.9225534865885554,0.9256336207560845,0.928670679252672,0.9316658435046188,0.9346202504298201,0.937535000668589,0.9404111256275965,0.9432496442131781,0.9460515306198574,0.9488177009197615,0.9515490779319924,0.9542465242129828,0.9569108768037262,0.9595429371796755,0.9621434321033376,0.9647131523766426,0.9672528230971119,0.9697630990362378,0.9722446843251739,0.974698219165528,0.9771243140812063,0.9795236076656436,0.9818966408800913,0.9842440232542553,0.9865662484854264,0.9888638819636381,0.9911374182265386,0.9933873052421871,0.9956140893535411,0.9978182566450366,1.0],\"type\":\"bar\",\"xaxis\":\"x4\",\"yaxis\":\"y4\"}],                        {\"template\":{\"data\":{\"histogram2dcontour\":[{\"type\":\"histogram2dcontour\",\"colorbar\":{\"outlinewidth\":0,\"ticks\":\"\"},\"colorscale\":[[0.0,\"#0d0887\"],[0.1111111111111111,\"#46039f\"],[0.2222222222222222,\"#7201a8\"],[0.3333333333333333,\"#9c179e\"],[0.4444444444444444,\"#bd3786\"],[0.5555555555555556,\"#d8576b\"],[0.6666666666666666,\"#ed7953\"],[0.7777777777777778,\"#fb9f3a\"],[0.8888888888888888,\"#fdca26\"],[1.0,\"#f0f921\"]]}],\"choropleth\":[{\"type\":\"choropleth\",\"colorbar\":{\"outlinewidth\":0,\"ticks\":\"\"}}],\"histogram2d\":[{\"type\":\"histogram2d\",\"colorbar\":{\"outlinewidth\":0,\"ticks\":\"\"},\"colorscale\":[[0.0,\"#0d0887\"],[0.1111111111111111,\"#46039f\"],[0.2222222222222222,\"#7201a8\"],[0.3333333333333333,\"#9c179e\"],[0.4444444444444444,\"#bd3786\"],[0.5555555555555556,\"#d8576b\"],[0.6666666666666666,\"#ed7953\"],[0.7777777777777778,\"#fb9f3a\"],[0.8888888888888888,\"#fdca26\"],[1.0,\"#f0f921\"]]}],\"heatmap\":[{\"type\":\"heatmap\",\"colorbar\":{\"outlinewidth\":0,\"ticks\":\"\"},\"colorscale\":[[0.0,\"#0d0887\"],[0.1111111111111111,\"#46039f\"],[0.2222222222222222,\"#7201a8\"],[0.3333333333333333,\"#9c179e\"],[0.4444444444444444,\"#bd3786\"],[0.5555555555555556,\"#d8576b\"],[0.6666666666666666,\"#ed7953\"],[0.7777777777777778,\"#fb9f3a\"],[0.8888888888888888,\"#fdca26\"],[1.0,\"#f0f921\"]]}],\"heatmapgl\":[{\"type\":\"heatmapgl\",\"colorbar\":{\"outlinewidth\":0,\"ticks\":\"\"},\"colorscale\":[[0.0,\"#0d0887\"],[0.1111111111111111,\"#46039f\"],[0.2222222222222222,\"#7201a8\"],[0.3333333333333333,\"#9c179e\"],[0.4444444444444444,\"#bd3786\"],[0.5555555555555556,\"#d8576b\"],[0.6666666666666666,\"#ed7953\"],[0.7777777777777778,\"#fb9f3a\"],[0.8888888888888888,\"#fdca26\"],[1.0,\"#f0f921\"]]}],\"contourcarpet\":[{\"type\":\"contourcarpet\",\"colorbar\":{\"outlinewidth\":0,\"ticks\":\"\"}}],\"contour\":[{\"type\":\"contour\",\"colorbar\":{\"outlinewidth\":0,\"ticks\":\"\"},\"colorscale\":[[0.0,\"#0d0887\"],[0.1111111111111111,\"#46039f\"],[0.2222222222222222,\"#7201a8\"],[0.3333333333333333,\"#9c179e\"],[0.4444444444444444,\"#bd3786\"],[0.5555555555555556,\"#d8576b\"],[0.6666666666666666,\"#ed7953\"],[0.7777777777777778,\"#fb9f3a\"],[0.8888888888888888,\"#fdca26\"],[1.0,\"#f0f921\"]]}],\"surface\":[{\"type\":\"surface\",\"colorbar\":{\"outlinewidth\":0,\"ticks\":\"\"},\"colorscale\":[[0.0,\"#0d0887\"],[0.1111111111111111,\"#46039f\"],[0.2222222222222222,\"#7201a8\"],[0.3333333333333333,\"#9c179e\"],[0.4444444444444444,\"#bd3786\"],[0.5555555555555556,\"#d8576b\"],[0.6666666666666666,\"#ed7953\"],[0.7777777777777778,\"#fb9f3a\"],[0.8888888888888888,\"#fdca26\"],[1.0,\"#f0f921\"]]}],\"mesh3d\":[{\"type\":\"mesh3d\",\"colorbar\":{\"outlinewidth\":0,\"ticks\":\"\"}}],\"scatter\":[{\"fillpattern\":{\"fillmode\":\"overlay\",\"size\":10,\"solidity\":0.2},\"type\":\"scatter\"}],\"parcoords\":[{\"type\":\"parcoords\",\"line\":{\"colorbar\":{\"outlinewidth\":0,\"ticks\":\"\"}}}],\"scatterpolargl\":[{\"type\":\"scatterpolargl\",\"marker\":{\"colorbar\":{\"outlinewidth\":0,\"ticks\":\"\"}}}],\"bar\":[{\"error_x\":{\"color\":\"#2a3f5f\"},\"error_y\":{\"color\":\"#2a3f5f\"},\"marker\":{\"line\":{\"color\":\"#E5ECF6\",\"width\":0.5},\"pattern\":{\"fillmode\":\"overlay\",\"size\":10,\"solidity\":0.2}},\"type\":\"bar\"}],\"scattergeo\":[{\"type\":\"scattergeo\",\"marker\":{\"colorbar\":{\"outlinewidth\":0,\"ticks\":\"\"}}}],\"scatterpolar\":[{\"type\":\"scatterpolar\",\"marker\":{\"colorbar\":{\"outlinewidth\":0,\"ticks\":\"\"}}}],\"histogram\":[{\"marker\":{\"pattern\":{\"fillmode\":\"overlay\",\"size\":10,\"solidity\":0.2}},\"type\":\"histogram\"}],\"scattergl\":[{\"type\":\"scattergl\",\"marker\":{\"colorbar\":{\"outlinewidth\":0,\"ticks\":\"\"}}}],\"scatter3d\":[{\"type\":\"scatter3d\",\"line\":{\"colorbar\":{\"outlinewidth\":0,\"ticks\":\"\"}},\"marker\":{\"colorbar\":{\"outlinewidth\":0,\"ticks\":\"\"}}}],\"scattermapbox\":[{\"type\":\"scattermapbox\",\"marker\":{\"colorbar\":{\"outlinewidth\":0,\"ticks\":\"\"}}}],\"scatterternary\":[{\"type\":\"scatterternary\",\"marker\":{\"colorbar\":{\"outlinewidth\":0,\"ticks\":\"\"}}}],\"scattercarpet\":[{\"type\":\"scattercarpet\",\"marker\":{\"colorbar\":{\"outlinewidth\":0,\"ticks\":\"\"}}}],\"carpet\":[{\"aaxis\":{\"endlinecolor\":\"#2a3f5f\",\"gridcolor\":\"white\",\"linecolor\":\"white\",\"minorgridcolor\":\"white\",\"startlinecolor\":\"#2a3f5f\"},\"baxis\":{\"endlinecolor\":\"#2a3f5f\",\"gridcolor\":\"white\",\"linecolor\":\"white\",\"minorgridcolor\":\"white\",\"startlinecolor\":\"#2a3f5f\"},\"type\":\"carpet\"}],\"table\":[{\"cells\":{\"fill\":{\"color\":\"#EBF0F8\"},\"line\":{\"color\":\"white\"}},\"header\":{\"fill\":{\"color\":\"#C8D4E3\"},\"line\":{\"color\":\"white\"}},\"type\":\"table\"}],\"barpolar\":[{\"marker\":{\"line\":{\"color\":\"#E5ECF6\",\"width\":0.5},\"pattern\":{\"fillmode\":\"overlay\",\"size\":10,\"solidity\":0.2}},\"type\":\"barpolar\"}],\"pie\":[{\"automargin\":true,\"type\":\"pie\"}]},\"layout\":{\"autotypenumbers\":\"strict\",\"colorway\":[\"#636efa\",\"#EF553B\",\"#00cc96\",\"#ab63fa\",\"#FFA15A\",\"#19d3f3\",\"#FF6692\",\"#B6E880\",\"#FF97FF\",\"#FECB52\"],\"font\":{\"color\":\"#2a3f5f\"},\"hovermode\":\"closest\",\"hoverlabel\":{\"align\":\"left\"},\"paper_bgcolor\":\"white\",\"plot_bgcolor\":\"#E5ECF6\",\"polar\":{\"bgcolor\":\"#E5ECF6\",\"angularaxis\":{\"gridcolor\":\"white\",\"linecolor\":\"white\",\"ticks\":\"\"},\"radialaxis\":{\"gridcolor\":\"white\",\"linecolor\":\"white\",\"ticks\":\"\"}},\"ternary\":{\"bgcolor\":\"#E5ECF6\",\"aaxis\":{\"gridcolor\":\"white\",\"linecolor\":\"white\",\"ticks\":\"\"},\"baxis\":{\"gridcolor\":\"white\",\"linecolor\":\"white\",\"ticks\":\"\"},\"caxis\":{\"gridcolor\":\"white\",\"linecolor\":\"white\",\"ticks\":\"\"}},\"coloraxis\":{\"colorbar\":{\"outlinewidth\":0,\"ticks\":\"\"}},\"colorscale\":{\"sequential\":[[0.0,\"#0d0887\"],[0.1111111111111111,\"#46039f\"],[0.2222222222222222,\"#7201a8\"],[0.3333333333333333,\"#9c179e\"],[0.4444444444444444,\"#bd3786\"],[0.5555555555555556,\"#d8576b\"],[0.6666666666666666,\"#ed7953\"],[0.7777777777777778,\"#fb9f3a\"],[0.8888888888888888,\"#fdca26\"],[1.0,\"#f0f921\"]],\"sequentialminus\":[[0.0,\"#0d0887\"],[0.1111111111111111,\"#46039f\"],[0.2222222222222222,\"#7201a8\"],[0.3333333333333333,\"#9c179e\"],[0.4444444444444444,\"#bd3786\"],[0.5555555555555556,\"#d8576b\"],[0.6666666666666666,\"#ed7953\"],[0.7777777777777778,\"#fb9f3a\"],[0.8888888888888888,\"#fdca26\"],[1.0,\"#f0f921\"]],\"diverging\":[[0,\"#8e0152\"],[0.1,\"#c51b7d\"],[0.2,\"#de77ae\"],[0.3,\"#f1b6da\"],[0.4,\"#fde0ef\"],[0.5,\"#f7f7f7\"],[0.6,\"#e6f5d0\"],[0.7,\"#b8e186\"],[0.8,\"#7fbc41\"],[0.9,\"#4d9221\"],[1,\"#276419\"]]},\"xaxis\":{\"gridcolor\":\"white\",\"linecolor\":\"white\",\"ticks\":\"\",\"title\":{\"standoff\":15},\"zerolinecolor\":\"white\",\"automargin\":true,\"zerolinewidth\":2},\"yaxis\":{\"gridcolor\":\"white\",\"linecolor\":\"white\",\"ticks\":\"\",\"title\":{\"standoff\":15},\"zerolinecolor\":\"white\",\"automargin\":true,\"zerolinewidth\":2},\"scene\":{\"xaxis\":{\"backgroundcolor\":\"#E5ECF6\",\"gridcolor\":\"white\",\"linecolor\":\"white\",\"showbackground\":true,\"ticks\":\"\",\"zerolinecolor\":\"white\",\"gridwidth\":2},\"yaxis\":{\"backgroundcolor\":\"#E5ECF6\",\"gridcolor\":\"white\",\"linecolor\":\"white\",\"showbackground\":true,\"ticks\":\"\",\"zerolinecolor\":\"white\",\"gridwidth\":2},\"zaxis\":{\"backgroundcolor\":\"#E5ECF6\",\"gridcolor\":\"white\",\"linecolor\":\"white\",\"showbackground\":true,\"ticks\":\"\",\"zerolinecolor\":\"white\",\"gridwidth\":2}},\"shapedefaults\":{\"line\":{\"color\":\"#2a3f5f\"}},\"annotationdefaults\":{\"arrowcolor\":\"#2a3f5f\",\"arrowhead\":0,\"arrowwidth\":1},\"geo\":{\"bgcolor\":\"white\",\"landcolor\":\"#E5ECF6\",\"subunitcolor\":\"white\",\"showland\":true,\"showlakes\":true,\"lakecolor\":\"white\"},\"title\":{\"x\":0.05},\"mapbox\":{\"style\":\"light\"}}},\"xaxis\":{\"anchor\":\"y\",\"domain\":[0.0,1.0]},\"yaxis\":{\"anchor\":\"x\",\"domain\":[0.80625,1.0],\"title\":{\"text\":\"Logits\"}},\"xaxis2\":{\"anchor\":\"y2\",\"domain\":[0.0,1.0]},\"yaxis2\":{\"anchor\":\"x2\",\"domain\":[0.5375,0.73125],\"title\":{\"text\":\"Mass\"}},\"xaxis3\":{\"anchor\":\"y3\",\"domain\":[0.0,1.0]},\"yaxis3\":{\"anchor\":\"x3\",\"domain\":[0.26875,0.4625],\"title\":{\"text\":\"Cumulative Probabilities\"}},\"xaxis4\":{\"anchor\":\"y4\",\"domain\":[0.0,1.0]},\"yaxis4\":{\"anchor\":\"x4\",\"domain\":[0.0,0.19375],\"title\":{\"text\":\"Entropy %\"}},\"legend\":{\"x\":0.5,\"y\":1.0,\"xanchor\":\"center\",\"yanchor\":\"bottom\",\"orientation\":\"h\"},\"showlegend\":true,\"width\":600,\"height\":1200},                        {\"responsive\": true}                    ).then(function(){\n",
       "                            \n",
       "var gd = document.getElementById('eb8854ab-aa79-4984-a104-31804896fe7e');\n",
       "var x = new MutationObserver(function (mutations, observer) {{\n",
       "        var display = window.getComputedStyle(gd).display;\n",
       "        if (!display || display === 'none') {{\n",
       "            console.log([gd, 'removed!']);\n",
       "            Plotly.purge(gd);\n",
       "            observer.disconnect();\n",
       "        }}\n",
       "}});\n",
       "\n",
       "// Listen for the removal of the full notebook cells\n",
       "var notebookContainer = gd.closest('#notebook-container');\n",
       "if (notebookContainer) {{\n",
       "    x.observe(notebookContainer, {childList: true});\n",
       "}}\n",
       "\n",
       "// Listen for the clearing of the current output cell\n",
       "var outputEl = gd.closest('.output');\n",
       "if (outputEl) {{\n",
       "    x.observe(outputEl, {childList: true});\n",
       "}}\n",
       "\n",
       "                        })                };                });            </script>        </div>"
      ]
     },
     "metadata": {},
     "output_type": "display_data"
    }
   ],
   "source": [
    "fig = sp.make_subplots(rows=4, cols=1)\n",
    "\n",
    "# Adding original logits trace\n",
    "fig.add_trace(\n",
    "    go.Bar(\n",
    "        x=vocab,\n",
    "        y=original_logits,\n",
    "        name='Original Logits',\n",
    "        marker={\n",
    "            'color': f\"rgba{*colors['original_logits'], 1}\"\n",
    "        },\n",
    "        legendgroup='original'\n",
    "    ), row=1, col=1\n",
    ")\n",
    "fig.update_yaxes(title_text='Logits', row=1, col=1)\n",
    "\n",
    "# Adding original PMF trace\n",
    "fig.add_trace(\n",
    "    go.Bar(\n",
    "        x=vocab,\n",
    "        y=original_pmf,\n",
    "        name='Original Probability Mass Function',\n",
    "        marker={\n",
    "            'color': f\"rgba{*colors['original_pmf'], 1}\"\n",
    "        },\n",
    "        legendgroup='original'\n",
    "    ), row=2, col=1\n",
    ")\n",
    "fig.update_yaxes(title_text='Mass', row=2, col=1)\n",
    "\n",
    "# Adding p_cumsum trace\n",
    "fig.add_trace(\n",
    "    go.Bar(\n",
    "        x=vocab,\n",
    "        y=p_cumsum,\n",
    "        name='Cumulative Probabilities',\n",
    "        marker={\n",
    "            'color': f\"rgba{*colors['effective_logits'], 1}\"\n",
    "        },\n",
    "        legendgroup='effective'\n",
    "    ), row=3, col=1,\n",
    ")\n",
    "fig.update_yaxes(title_text='Cumulative Probabilities', row=3, col=1)\n",
    "\n",
    "# Adding entropy % trace\n",
    "fig.add_trace(\n",
    "    go.Bar(\n",
    "        x=vocab,\n",
    "        y=entropies_percent,\n",
    "        name='Entropy Percents',\n",
    "        marker={\n",
    "            'color': f\"rgba{*colors['effective_pmf'], 1}\"\n",
    "        },\n",
    "        legendgroup='effective'\n",
    "    ), row=4, col=1,\n",
    ")\n",
    "fig.update_yaxes(title_text='Entropy %', row=4, col=1)\n",
    "\n",
    "fig.update_layout(\n",
    "    showlegend=True,\n",
    "    legend=dict(\n",
    "        x=0.5,\n",
    "        y=1.0,\n",
    "        xanchor='center',\n",
    "        yanchor='bottom',\n",
    "        orientation='h'\n",
    "    ),\n",
    "    width=600,\n",
    "    height=1200\n",
    ")\n",
    "fig.show()"
   ]
  },
  {
   "cell_type": "raw",
   "id": "622723cd-d023-4d47-8b11-3566c29d8643",
   "metadata": {},
   "source": [
    "plot_output = widgets.Output(layout=widgets.Layout(width='80%', border='1px solid #AEB4A9', padding='10px', margin='10px'))\n",
    "\n",
    "def update_plot(change=None):\n",
    "\n",
    "    max_entropy_percent = max_entropy_percent_slider.value\n",
    "\n",
    "    for i in range(vocab_size):\n",
    "        effective_logits = select_top_k(original_logits, i + 1)\n",
    "        effective_pmf = convert_logits_to_probabilities(effective_logits)\n",
    "        entropy = np.nansum(-effective_pmf * np.log2(effective_pmf))\n",
    "        entropy_percent = entropy / max_entropy\n",
    "        \n",
    "        if entropy_percent > max_entropy_percent:\n",
    "            break\n",
    "\n",
    "    effective_logits = select_top_k(original_logits, i)\n",
    "    effective_pmf = convert_logits_to_probabilities(effective_logits)\n",
    "    \n",
    "    with plot_output:\n",
    "        plot_output.clear_output(wait=True)\n",
    "        fig = sp.make_subplots(rows=3, cols=2, shared_xaxes=True)\n",
    "        \n",
    "        # Adding original logits trace\n",
    "        fig.add_trace(\n",
    "            go.Bar(\n",
    "                x=vocab,\n",
    "                y=original_logits,\n",
    "                name='Original Logits Distribution',\n",
    "                marker={\n",
    "                    'color': f\"rgba{*colors['original_logits'], 1}\"\n",
    "                },\n",
    "                legendgroup='original'\n",
    "            ), row=1, col=1\n",
    "        )\n",
    "        fig.update_yaxes(title_text='Logits', row=1, col=1)\n",
    "        \n",
    "        # Adding original PMF trace\n",
    "        fig.add_trace(\n",
    "            go.Bar(\n",
    "                x=vocab,\n",
    "                y=original_pmf,\n",
    "                name='Original Probability Mass Function',\n",
    "                marker={\n",
    "                    'color': f\"rgba{*colors['original_pmf'], 1}\"\n",
    "                },\n",
    "                legendgroup='original'\n",
    "            ), row=2, col=1\n",
    "        )\n",
    "        fig.update_yaxes(title_text='Mass', row=2, col=1)\n",
    "    \n",
    "        # Adding effective logits trace\n",
    "        fig.add_trace(\n",
    "            go.Bar(\n",
    "                x=vocab,\n",
    "                y=effective_logits,\n",
    "                name='Effective Logits Distribution',\n",
    "                marker={\n",
    "                    'color': f\"rgba{*colors['effective_logits'], 1}\"\n",
    "                },\n",
    "                legendgroup='effective'\n",
    "            ), row=1, col=2,\n",
    "        )\n",
    "        \n",
    "        # Adding effective PMF trace\n",
    "        fig.add_trace(\n",
    "            go.Bar(\n",
    "                x=vocab,\n",
    "                y=effective_pmf,\n",
    "                name='Effective Probability Mass Function',\n",
    "                marker={\n",
    "                    'color': f\"rgba{*colors['effective_pmf'], 1}\"\n",
    "                },\n",
    "                legendgroup='effective'\n",
    "            ), row=2, col=2,\n",
    "        )\n",
    "        \n",
    "        fig.update_layout(\n",
    "            showlegend=True,\n",
    "            legend=dict(\n",
    "                x=0.5,\n",
    "                y=1.0,\n",
    "                xanchor='center',\n",
    "                yanchor='bottom',\n",
    "                orientation='h'\n",
    "            ),\n",
    "            width=800,\n",
    "            height=600\n",
    "        )\n",
    "        fig.show()"
   ]
  },
  {
   "cell_type": "raw",
   "id": "218616df-be52-4895-91e5-eccbda899af8",
   "metadata": {},
   "source": [
    "# Creating Max Entropy Slider\n",
    "max_entropy_percent_label = widgets.HTMLMath(\n",
    "    'Max Entropy:',\n",
    "    layout=widgets.Layout(width='30%')\n",
    ")\n",
    "max_entropy_percent_slider = widgets.FloatSlider(\n",
    "    value=0,\n",
    "    min=0,\n",
    "    max=1,\n",
    "    step=0.01,\n",
    "    layout=widgets.Layout(width='70%'),\n",
    "    continuous_update=True\n",
    ")\n",
    "max_entropy_percent_slider.observe(update_plot)"
   ]
  },
  {
   "cell_type": "raw",
   "id": "ab0f04a3-a853-4b34-8f93-da2e5ea262ac",
   "metadata": {},
   "source": [
    "display(\n",
    "    widgets.VBox(\n",
    "        [\n",
    "            widgets.HBox([max_entropy_percent_label, max_entropy_percent_slider]),\n",
    "            plot_output\n",
    "        ]\n",
    "    )\n",
    ")\n",
    "\n",
    "update_plot()"
   ]
  },
  {
   "cell_type": "code",
   "execution_count": null,
   "id": "3af35ffc-dbd4-4ba4-8a6a-26d5385ec203",
   "metadata": {},
   "outputs": [],
   "source": []
  }
 ],
 "metadata": {
  "kernelspec": {
   "display_name": "Python 3 (ipykernel)",
   "language": "python",
   "name": "python3"
  },
  "language_info": {
   "codemirror_mode": {
    "name": "ipython",
    "version": 3
   },
   "file_extension": ".py",
   "mimetype": "text/x-python",
   "name": "python",
   "nbconvert_exporter": "python",
   "pygments_lexer": "ipython3",
   "version": "3.12.6"
  }
 },
 "nbformat": 4,
 "nbformat_minor": 5
}
