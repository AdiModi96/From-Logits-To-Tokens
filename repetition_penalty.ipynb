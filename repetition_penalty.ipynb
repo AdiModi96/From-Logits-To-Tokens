{
 "cells": [
  {
   "cell_type": "markdown",
   "id": "f6aeb9a1-c65e-4350-a5a6-84c5a6a0f6a1",
   "metadata": {},
   "source": [
    "**Importing Required Libraries**"
   ]
  },
  {
   "cell_type": "code",
   "execution_count": 1,
   "id": "c320169d-b15a-48b5-8f26-5545434b393d",
   "metadata": {},
   "outputs": [],
   "source": [
    "import random\n",
    "import numpy as np\n",
    "\n",
    "import plotly.graph_objs as go\n",
    "import plotly.subplots as sp\n",
    "\n",
    "from colors import colors\n",
    "from utils import apply_repetition_penalty\n",
    "\n",
    "import ipywidgets as widgets"
   ]
  },
  {
   "cell_type": "markdown",
   "id": "3a42c957-7577-4db9-afc8-671d01638d83",
   "metadata": {},
   "source": [
    "# Loading Words & Creating (Sampled) Vocabulary"
   ]
  },
  {
   "cell_type": "code",
   "execution_count": 2,
   "id": "9d3bd7df-49f2-4e94-b009-95a96fcc6904",
   "metadata": {},
   "outputs": [],
   "source": [
    "with open('words.txt') as file:\n",
    "    words = file.read().splitlines()"
   ]
  },
  {
   "cell_type": "code",
   "execution_count": 3,
   "id": "953fa7a0-a7a2-488a-ae12-29effe96a72f",
   "metadata": {},
   "outputs": [],
   "source": [
    "vocab_size = 15\n",
    "\n",
    "random.seed(0)\n",
    "vocab = sorted(random.sample(words, vocab_size))"
   ]
  },
  {
   "cell_type": "markdown",
   "id": "b71ffae5-d481-4171-9744-0fc93957c1bf",
   "metadata": {},
   "source": [
    "# Creating Random Logits Distribution"
   ]
  },
  {
   "cell_type": "code",
   "execution_count": 4,
   "id": "c7796b01-b160-4a5d-a01e-b2e7d45eb369",
   "metadata": {},
   "outputs": [],
   "source": [
    "np.random.seed(1618)\n",
    "logits = np.random.normal(0, 0.8, size=vocab_size)"
   ]
  },
  {
   "cell_type": "markdown",
   "id": "d922b5b3-ed3c-4dcd-837f-66df8e45f635",
   "metadata": {},
   "source": [
    "# Defining Parameters for Inferencing"
   ]
  },
  {
   "cell_type": "code",
   "execution_count": 5,
   "id": "0ce4591b-a21e-4e39-8d13-c511007e90f1",
   "metadata": {},
   "outputs": [],
   "source": [
    "repetition_penalty = 10"
   ]
  },
  {
   "cell_type": "markdown",
   "id": "9cac2f78-8e04-4ea9-be77-b8a83052ae35",
   "metadata": {},
   "source": [
    "# Plotting"
   ]
  },
  {
   "cell_type": "code",
   "execution_count": 6,
   "id": "744d88ad-7595-48bd-8d5f-27fb1debb7f8",
   "metadata": {},
   "outputs": [],
   "source": [
    "frequencies = np.zeros(shape=vocab_size, dtype=np.int16)"
   ]
  },
  {
   "cell_type": "code",
   "execution_count": 8,
   "id": "6c85c7dd-0ab4-43a5-828f-778e4116884a",
   "metadata": {},
   "outputs": [
    {
     "data": {
      "application/vnd.jupyter.widget-view+json": {
       "model_id": "9f4dc63d2f824a98b4360fc051fc1f46",
       "version_major": 2,
       "version_minor": 0
      },
      "text/plain": [
       "VBox(children=(Label(value=\"Select word to change it's frequency\"), Dropdown(layout=Layout(width='500px'), opt…"
      ]
     },
     "metadata": {},
     "output_type": "display_data"
    }
   ],
   "source": [
    "def update_graph():\n",
    "\n",
    "    with output_widget:\n",
    "        output_widget.clear_output()\n",
    "        fig = sp.make_subplots(rows=5, cols=1, shared_xaxes=True)\n",
    "    \n",
    "        # Adding a trace for logits\n",
    "        fig.add_trace(\n",
    "            go.Bar(\n",
    "                x=vocab,\n",
    "                y=logits,\n",
    "                name='Original Logits Distribution',\n",
    "                marker={\n",
    "                    'color': colors['logits']\n",
    "                }\n",
    "            ), row=1, col=1\n",
    "        )\n",
    "        fig.update_yaxes(title_text='Logits', row=1, col=1)\n",
    "    \n",
    "         # Adding trace for frequencies\n",
    "        fig.add_trace(\n",
    "            go.Bar(\n",
    "                x=vocab,\n",
    "                y=frequencies,\n",
    "                name='Frequency',\n",
    "                marker={\n",
    "                    'color': colors['logits']\n",
    "                }\n",
    "            ), row=2, col=1\n",
    "        )\n",
    "        fig.update_yaxes(title_text='Frequency', row=2, col=1)\n",
    "    \n",
    "        processed_logits = apply_repetition_penalty(logits, frequencies, repetition_penalty) \n",
    "        # Adding trace for logits after repetition penalty\n",
    "        fig.add_trace(\n",
    "            go.Bar(\n",
    "                x=vocab,\n",
    "                y=processed_logits,\n",
    "                name='Logits Distribution After Applying Repetition Penalty (RP)',\n",
    "                marker={\n",
    "                    'color': colors['logits']\n",
    "                }\n",
    "            ), row=3, col=1\n",
    "        )\n",
    "        fig.update_yaxes(title_text='Logits', row=3, col=1)\n",
    "    \n",
    "        pmf = np.exp(processed_logits)\n",
    "        pmf = pmf / pmf.sum()\n",
    "        # Adding PMF trace\n",
    "        fig.add_trace(\n",
    "            go.Bar(\n",
    "                x=vocab,\n",
    "                y=pmf,\n",
    "                name='Probability Distribution',\n",
    "                marker={\n",
    "                    'color': colors['pmf']\n",
    "                },\n",
    "            ), row=4, col=1\n",
    "        )\n",
    "        fig.update_yaxes(title_text='Mass', row=4, col=1)\n",
    "        \n",
    "        # Adding PMF trace\n",
    "        fig.add_trace(\n",
    "            go.Scatter(\n",
    "                x=vocab,\n",
    "                y=pmf,\n",
    "                name='Temperature-Scaled Approx. Probability Density Function',\n",
    "                marker={\n",
    "                    'color': colors['pmf']\n",
    "                },\n",
    "                fill='tozeroy',\n",
    "                fillcolor=colors['pmf']\n",
    "            ), row=5, col=1\n",
    "        )\n",
    "        fig.update_yaxes(title_text='Mass', row=5, col=1)\n",
    "        \n",
    "        fig.update_layout(\n",
    "            showlegend=True,\n",
    "            yaxis={'autorange': True},\n",
    "            legend=dict(\n",
    "                x=0.5,\n",
    "                y=1.0,\n",
    "                xanchor='center',\n",
    "                yanchor='bottom',\n",
    "                orientation='h'\n",
    "            ),\n",
    "            width=1000,\n",
    "            height=1000\n",
    "        )\n",
    "    \n",
    "        fig.show()\n",
    "\n",
    "def update_frequencies_slider(change):\n",
    "     frequencies_slider.value = frequencies[vocab.index(change['new'])]\n",
    "\n",
    "def update_frequencies(change):\n",
    "    frequencies[vocab.index(vocab_dropdown.value)] = change['new']\n",
    "    update_graph()\n",
    "\n",
    "output_widget = widgets.Output()\n",
    "\n",
    "vocab_dropdown = widgets.Dropdown(\n",
    "    options=vocab,\n",
    "    layout=widgets.Layout(width='500px')\n",
    ")\n",
    "\n",
    "frequencies_slider = widgets.IntSlider(\n",
    "    min=0,\n",
    "    max=10,\n",
    "    value=frequencies[0],\n",
    "    step=1,\n",
    "    layout=widgets.Layout(width='500px')\n",
    ")\n",
    "\n",
    "vocab_dropdown.observe(update_frequencies_slider, names='value')\n",
    "frequencies_slider.observe(update_frequencies, names='value')\n",
    "display(widgets.VBox(\n",
    "    [\n",
    "        widgets.Label('Select word to change it\\'s frequency'), vocab_dropdown,\n",
    "        widgets.Label('Change frequency'), frequencies_slider,\n",
    "        output_widget\n",
    "    ]\n",
    "))\n",
    "update_graph()"
   ]
  },
  {
   "cell_type": "code",
   "execution_count": null,
   "id": "f17dabea-34dd-4e6c-aeed-0ad8debba48e",
   "metadata": {},
   "outputs": [],
   "source": []
  }
 ],
 "metadata": {
  "kernelspec": {
   "display_name": "Python 3 (ipykernel)",
   "language": "python",
   "name": "python3"
  },
  "language_info": {
   "codemirror_mode": {
    "name": "ipython",
    "version": 3
   },
   "file_extension": ".py",
   "mimetype": "text/x-python",
   "name": "python",
   "nbconvert_exporter": "python",
   "pygments_lexer": "ipython3",
   "version": "3.12.6"
  }
 },
 "nbformat": 4,
 "nbformat_minor": 5
}
